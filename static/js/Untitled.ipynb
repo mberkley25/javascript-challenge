{
 "cells": [
  {
   "cell_type": "code",
   "execution_count": 10,
   "metadata": {},
   "outputs": [
    {
     "ename": "ReferenceError",
     "evalue": "document is not defined",
     "execution_count": 10,
     "output_type": "error",
     "traceback": [
      "evalmachine.<anonymous>:2",
      "var $tbody = document.querySelector(\"tbody\");",
      "             ^",
      "",
      "ReferenceError: document is not defined",
      "    at evalmachine.<anonymous>:2:14",
      "    at ContextifyScript.Script.runInThisContext (vm.js:25:33)",
      "    at Object.runInThisContext (vm.js:97:38)",
      "    at run ([eval]:1054:15)",
      "    at onRunRequest ([eval]:888:18)",
      "    at onMessage ([eval]:848:13)",
      "    at emitTwo (events.js:106:13)",
      "    at process.emit (events.js:191:7)",
      "    at process.nextTick (internal/child_process.js:787:12)",
      "    at _combinedTickCallback (internal/process/next_tick.js:73:7)"
     ]
    }
   ],
   "source": [
    "// Get references to the tbody element, input fields and button\n",
    "var $tbody = document.querySelector(\"tbody\");\n",
    "var $dateInput = document.querySelector(\"#datetime\");\n",
    "var $searchBtn = document.querySelector(\"#search\");\n",
    "var $resetBtn = document.querySelector(\"#reset\");\n",
    "\n",
    "\n",
    "\n",
    "// Create a copy of the data\n",
    "var tableData = data;\n",
    "\n",
    "// Build table with non-filtered data\n",
    "function renderTable() {\n",
    "  $tbody.innerHTML = \"\";\n",
    "  for (var i = 0; i < tableData.length; i++) {\n",
    "    // Get current address object and fields\n",
    "    var address = tableData[i];\n",
    "    console.log(address)\n",
    "    var fields = Object.keys(address);\n",
    "    // Create new row in tbody, set index to be i + startingIndex\n",
    "    var $row = $tbody.insertRow(i);\n",
    "    for (var j = 0; j < fields.length; j++) {\n",
    "      // For each field in address object, create new cell and set inner text to be current value at current address field\n",
    "      var field = fields[j];\n",
    "      var $cell = $row.insertCell(j);\n",
    "      $cell.innerText = address[field];\n",
    "    }\n",
    "  }\n",
    "}\n",
    "\n",
    "// Build search table for filtered data\n",
    "function handleSearchButtonClick() {\n",
    "  var filterDate = $dateInput.value;\n",
    "  \n",
    "  // Filter on date\n",
    "  if (filterDate != \"\") {\n",
    "    tableData = data.filter(function (address) {\n",
    "      var addressDate = address.datetime;\n",
    "      return addressDate === filterDate;\n",
    "    });\n",
    "  }\n",
    "  else { tableData };\n",
    "\n",
    "  renderTable();\n",
    "}\n",
    "\n",
    "// Clear all the fields\n",
    "function handleResetButtonClick(){\n",
    "  renderTable();\n",
    "}\n",
    "\n",
    "// Render the table for the first time on page load\n",
    "renderTable();\n"
   ]
  },
  {
   "cell_type": "code",
   "execution_count": null,
   "metadata": {},
   "outputs": [],
   "source": []
  }
 ],
 "metadata": {
  "kernelspec": {
   "display_name": "Javascript (Node.js)",
   "language": "javascript",
   "name": "javascript"
  },
  "language_info": {
   "file_extension": ".js",
   "mimetype": "application/javascript",
   "name": "javascript",
   "version": "6.13.1"
  }
 },
 "nbformat": 4,
 "nbformat_minor": 4
}
